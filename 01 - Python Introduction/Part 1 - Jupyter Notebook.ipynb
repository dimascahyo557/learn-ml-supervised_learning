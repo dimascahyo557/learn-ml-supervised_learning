{
 "cells": [
  {
   "cell_type": "markdown",
   "id": "923dddf9-85fc-4b97-94fd-cb6fad64fbf8",
   "metadata": {},
   "source": [
    "# Coba Jupyter"
   ]
  },
  {
   "cell_type": "code",
   "execution_count": 3,
   "id": "9c070d70-1ddf-4b58-a958-552af2047177",
   "metadata": {},
   "outputs": [
    {
     "data": {
      "text/plain": [
       "2"
      ]
     },
     "execution_count": 3,
     "metadata": {},
     "output_type": "execute_result"
    }
   ],
   "source": [
    "1+1"
   ]
  },
  {
   "cell_type": "markdown",
   "id": "29e25a70-4881-44b1-863f-91611a903881",
   "metadata": {},
   "source": [
    "## Heading 2"
   ]
  },
  {
   "cell_type": "markdown",
   "id": "e5b8b071-3ec4-42fa-8d9d-b07a4310a5fd",
   "metadata": {},
   "source": [
    "### Heading 3"
   ]
  },
  {
   "cell_type": "code",
   "execution_count": 4,
   "id": "dfea567b-8c26-46d5-a5f7-932befc5a886",
   "metadata": {},
   "outputs": [
    {
     "data": {
      "text/plain": [
       "15"
      ]
     },
     "execution_count": 4,
     "metadata": {},
     "output_type": "execute_result"
    }
   ],
   "source": [
    "3*5"
   ]
  },
  {
   "cell_type": "code",
   "execution_count": 5,
   "id": "74b2b571-33a3-49b4-bff1-b15c95843651",
   "metadata": {},
   "outputs": [
    {
     "data": {
      "text/plain": [
       "-1"
      ]
     },
     "execution_count": 5,
     "metadata": {},
     "output_type": "execute_result"
    }
   ],
   "source": [
    "11-12"
   ]
  },
  {
   "cell_type": "code",
   "execution_count": null,
   "id": "71fbc3de-95d7-4dec-9ede-378380441e26",
   "metadata": {},
   "outputs": [],
   "source": []
  }
 ],
 "metadata": {
  "kernelspec": {
   "display_name": "Python [conda env:base] *",
   "language": "python",
   "name": "conda-base-py"
  },
  "language_info": {
   "codemirror_mode": {
    "name": "ipython",
    "version": 3
   },
   "file_extension": ".py",
   "mimetype": "text/x-python",
   "name": "python",
   "nbconvert_exporter": "python",
   "pygments_lexer": "ipython3",
   "version": "3.12.7"
  }
 },
 "nbformat": 4,
 "nbformat_minor": 5
}
